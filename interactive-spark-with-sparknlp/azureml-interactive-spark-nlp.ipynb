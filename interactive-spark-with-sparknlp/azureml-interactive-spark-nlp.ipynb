{
  "cells": [
    {
      "cell_type": "markdown",
      "source": [
        "# Use `spark-nlp` on an Azure Machine Learning interactive cluster\n",
        "\n"
      ],
      "metadata": {}
    },
    {
      "cell_type": "code",
      "source": [
        "spark"
      ],
      "outputs": [
        {
          "output_type": "display_data",
          "data": {
            "application/vnd.livy.statement-meta+json": {
              "spark_pool": "5aa47e66-3850-4695-81a4-35db9fdf0332",
              "statement_id": 6,
              "statement_ids": [
                6
              ],
              "state": "finished",
              "livy_statement_state": "available",
              "spark_jobs": {
                "numbers": {
                  "UNKNOWN": 0,
                  "RUNNING": 0,
                  "SUCCEEDED": 0,
                  "FAILED": 0
                },
                "jobs": [],
                "limit": 20,
                "rule": "ALL_DESC"
              },
              "session_id": "6",
              "normalized_state": "finished",
              "queued_time": "2024-11-14T17:14:20.2008103Z",
              "session_start_time": "2024-11-14T17:14:20.2518973Z",
              "execution_start_time": "2024-11-14T17:25:08.5575952Z",
              "execution_finish_time": "2024-11-14T17:25:12.7784498Z",
              "parent_msg_id": "03d987d7-b470-4386-9ebd-5b5870086450"
            },
            "text/plain": "StatementMeta(5aa47e66-3850-4695-81a4-35db9fdf0332, 6, 6, Finished, Available, Finished)"
          },
          "metadata": {}
        },
        {
          "output_type": "execute_result",
          "execution_count": 11,
          "data": {
            "text/plain": "<pyspark.sql.session.SparkSession at 0x7072fb45ca00>",
            "text/html": "\n            <div>\n                <p><b>SparkSession - hive</b></p>\n                \n        <div>\n            <p><b>SparkContext</b></p>\n\n            <p><a href=\"http://vm-94e49203:46171\">Spark UI</a></p>\n\n            <dl>\n              <dt>Version</dt>\n                <dd><code>v3.4.3.5.3.20241016.1</code></dd>\n              <dt>Master</dt>\n                <dd><code>yarn</code></dd>\n              <dt>AppName</dt>\n                <dd><code>Azure ML Experiment</code></dd>\n            </dl>\n        </div>\n        \n            </div>\n        "
          },
          "metadata": {}
        }
      ],
      "execution_count": 1,
      "metadata": {
        "gather": {
          "logged": 1731605113109
        },
        "jupyter": {
          "outputs_hidden": false,
          "source_hidden": false
        },
        "nteract": {
          "transient": {
            "deleting": false
          }
        }
      }
    },
    {
      "cell_type": "code",
      "source": [
        "!pip list"
      ],
      "outputs": [
        {
          "output_type": "display_data",
          "data": {
            "application/vnd.livy.statement-meta+json": {
              "spark_pool": "5aa47e66-3850-4695-81a4-35db9fdf0332",
              "statement_id": 7,
              "statement_ids": [
                7
              ],
              "state": "finished",
              "livy_statement_state": "available",
              "spark_jobs": {
                "numbers": {
                  "UNKNOWN": 0,
                  "RUNNING": 0,
                  "SUCCEEDED": 0,
                  "FAILED": 0
                },
                "jobs": [],
                "limit": 20,
                "rule": "ALL_DESC"
              },
              "session_id": "6",
              "normalized_state": "finished",
              "queued_time": "2024-11-14T17:25:18.6554832Z",
              "session_start_time": null,
              "execution_start_time": "2024-11-14T17:25:18.7893792Z",
              "execution_finish_time": "2024-11-14T17:25:22.4127552Z",
              "parent_msg_id": "b7ccb3ae-35fd-4dd3-a491-7346926c3f10"
            },
            "text/plain": "StatementMeta(5aa47e66-3850-4695-81a4-35db9fdf0332, 6, 7, Finished, Available, Finished)"
          },
          "metadata": {}
        },
        {
          "output_type": "stream",
          "name": "stdout",
          "text": "Package                      Version\r\n---------------------------- -------------------\r\nabsl-py                      2.1.0\r\nadal                         1.2.7\r\nadlfs                        2023.10.0\r\naiohttp                      3.9.3\r\naiosignal                    1.3.1\r\naltair                       5.4.1\r\nanyio                        3.7.1\r\napplicationinsights          0.11.10\r\nargcomplete                  3.2.3\r\nargon2-cffi                  23.1.0\r\nargon2-cffi-bindings         21.2.0\r\narrow                        1.3.0\r\nasttokens                    2.4.1\r\nastunparse                   1.6.3\r\nasync-timeout                4.0.3\r\nattrs                        23.2.0\r\nazure-ai-ml                  1.12.1\r\nazure-common                 1.1.28\r\nazure-core                   1.30.1\r\nazure-datalake-store         0.0.51\r\nazure-graphrbac              0.61.1\r\nazure-identity               1.15.0\r\nazure-mgmt-authorization     4.0.0\r\nazure-mgmt-containerregistry 10.3.0\r\nazure-mgmt-core              1.4.0\r\nazure-mgmt-keyvault          10.3.0\r\nazure-mgmt-network           25.2.0\r\nazure-mgmt-resource          23.0.1\r\nazure-mgmt-storage           21.1.0\r\nazure-storage-blob           12.19.0\r\nazure-storage-file-datalake  12.14.0\r\nazure-storage-file-share     12.15.0\r\nazure-synapse-ml-predict     1.0.0\r\nazureml-core                 1.55.0\r\nazureml-dataprep             5.1.6\r\nazureml-dataprep-native      41.0.0\r\nazureml-dataprep-rslex       2.22.2\r\nazureml-dataset-runtime      1.55.0\r\nazureml-mlflow               1.55.0\r\nazureml-opendatasets         1.55.0\r\nazureml-synapse              0.0.1\r\nazureml-telemetry            1.55.0\r\nbackcall                     0.2.0\r\nbackports.tempfile           1.0\r\nbackports.weakref            1.0.post1\r\nbcrypt                       4.1.2\r\nbeautifulsoup4               4.12.2\r\nbleach                       6.1.0\r\nblinker                      1.7.0\r\nBrotli                       1.1.0\r\ncached-property              1.5.2\r\ncachetools                   5.3.3\r\ncertifi                      2024.8.30\r\ncffi                         1.16.0\r\ncharset-normalizer           3.3.2\r\nclick                        8.1.7\r\ncloudpickle                  2.2.1\r\nclr-loader                   0.2.6\r\ncolorama                     0.4.6\r\ncomm                         0.2.2\r\nconda-package-handling       2.2.0\r\nconda_package_streaming      0.9.0\r\nconfigparser                 6.0.1\r\ncontextlib2                  21.6.0\r\ncontourpy                    1.2.0\r\ncontrol_script               1.0.3\r\ncryptography                 41.0.7\r\ncycler                       0.12.1\r\ndash                         2.16.1\r\ndash-core-components         2.0.0\r\ndash-cytoscape               0.2.0\r\ndash-html-components         2.0.0\r\ndash-table                   5.0.0\r\ndatabricks-cli               0.18.0\r\ndebugpy                      1.8.1\r\ndecorator                    5.1.1\r\ndefusedxml                   0.7.1\r\ndill                         0.3.8\r\ndistlib                      0.3.8\r\ndocker                       7.0.0\r\nentrypoints                  0.4\r\net-xmlfile                   1.1.0\r\nexceptiongroup               1.2.0\r\nexecuting                    2.0.1\r\nfastjsonschema               2.19.1\r\nfilelock                     3.13.1\r\nFlask                        3.0.2\r\nflatbuffers                  24.3.7\r\nfluent-logger                0.10.0\r\nfonttools                    4.49.0\r\nfqdn                         1.5.1\r\nfrozenlist                   1.4.1\r\nfsspec                       2024.2.0\r\nfsspec_wrapper               0.1.13\r\nfusepy                       3.0.1\r\ngast                         0.5.4\r\ngeographiclib                2.0\r\ngeopy                        2.4.1\r\ngevent                       23.9.0.post1\r\ngitdb                        4.0.11\r\nGitPython                    3.1.42\r\ngmpy2                        2.1.2\r\ngoogle-api-core              2.17.1\r\ngoogle-auth                  2.28.2\r\ngoogle-auth-oauthlib         1.2.0\r\ngoogle-pasta                 0.2.0\r\ngoogleapis-common-protos     1.63.0\r\ngreenlet                     3.0.3\r\ngrpcio                       1.59.3\r\nh5py                         3.10.0\r\nhtml5lib                     1.1\r\nhumanfriendly                10.0\r\nidna                         3.6\r\nimageio                      2.33.1\r\nimportlib_metadata           7.0.2\r\nimportlib_resources          6.3.0\r\nimpulse-python-handler       1.0.22.1.0.0\r\ninterpret                    0.5.0\r\ninterpret-core               0.5.0\r\nipykernel                    6.29.3\r\nipython                      8.14.0\r\nipywidgets                   8.0.7\r\nisodate                      0.6.1\r\nisoduration                  20.11.0\r\nitsdangerous                 2.1.2\r\njedi                         0.19.1\r\njeepney                      0.8.0\r\nJinja2                       3.1.3\r\njmespath                     1.0.1\r\njoblib                       1.3.2\r\njsonpickle                   3.0.3\r\njsonpointer                  2.4\r\njsonschema                   4.21.1\r\njsonschema-specifications    2023.12.1\r\njupyter_client               8.6.1\r\njupyter_core                 5.7.2\r\njupyter-events               0.9.1\r\njupyter_server               2.7.0\r\njupyter_server_terminals     0.5.3\r\njupyter-ui-poll              0.2.2\r\njupyterlab_pygments          0.3.0\r\njupyterlab_widgets           3.0.10\r\nkeras                        2.15.0\r\nkiwisolver                   1.4.5\r\nknack                        0.11.0\r\nliac-arff                    2.5.0\r\nlibrary-metadata-cooker      3.4.1.2\r\nlightgbm                     4.2.0\r\nllvmlite                     0.42.0\r\nlxml                         5.1.0\r\nMarkdown                     3.5.1\r\nMarkupSafe                   2.1.5\r\nmarshmallow                  3.21.1\r\nmatplotlib                   3.8.2\r\nmatplotlib-inline            0.1.6\r\nmistune                      3.0.2\r\nmkl_fft                      1.3.8\r\nmkl_random                   1.2.5\r\nmkl-service                  2.4.1\r\nml-dtypes                    0.2.0\r\nmlflow-skinny                2.9.2\r\nmltable                      1.6.1\r\nmpmath                       1.3.0\r\nmsal                         1.27.0\r\nmsal-extensions              1.1.0\r\nmsgpack                      1.0.8\r\nmsrest                       0.7.1\r\nmsrestazure                  0.6.4\r\nmultidict                    6.0.5\r\nmultiprocess                 0.70.16\r\nmunkres                      1.1.4\r\nmypy                         1.4.1\r\nmypy-extensions              1.0.0\r\nnarwhals                     1.13.5\r\nnbclient                     0.10.0\r\nnbconvert                    7.16.2\r\nnbformat                     5.10.2\r\nndg-httpsclient              0.5.1\r\nnest_asyncio                 1.6.0\r\nnetworkx                     3.2.1\r\nnotebookutils                1.1.5.34.20240930.7\r\nnumba                        0.59.0\r\nnumpy                        1.23.5\r\noauthlib                     3.2.2\r\nonnx                         1.15.0\r\nopencensus                   0.11.4\r\nopencensus-context           0.1.3\r\nopencensus-ext-azure         1.1.13\r\nopenpyxl                     3.1.2\r\nopt-einsum                   3.3.0\r\noverrides                    7.7.0\r\npackaging                    23.2\r\npandas                       1.5.3\r\npandasql                     0.7.3\r\npandocfilters                1.5.0\r\nparamiko                     3.4.0\r\nparso                        0.8.3\r\npathos                       0.3.2\r\npathspec                     0.12.1\r\npatsy                        0.5.6\r\npexpect                      4.9.0\r\npickleshare                  0.7.5\r\npillow                       10.2.0\r\npip                          24.3.1\r\npkginfo                      1.10.0\r\npkgutil_resolve_name         1.3.10\r\nplatformdirs                 3.11.0\r\nplotly                       5.18.0\r\nply                          3.11\r\nportalocker                  2.8.2\r\npowerbiclient                3.1.1\r\npox                          0.3.4\r\nppft                         1.7.6.8\r\nprettytable                  3.9.0\r\nprometheus_client            0.20.0\r\nprompt-toolkit               3.0.42\r\nprotobuf                     4.24.4\r\npsutil                       5.9.8\r\nptyprocess                   0.7.0\r\npure-eval                    0.2.2\r\npy4j                         0.10.9.7\r\npyarrow                      14.0.2\r\npyasn1                       0.5.1\r\npyasn1-modules               0.3.0\r\npycairo                      1.26.0\r\npycosat                      0.6.6\r\npycparser                    2.21\r\npydash                       7.0.5\r\nPygments                     2.17.2\r\nPyGObject                    3.48.1\r\nPyJWT                        2.8.0\r\nPyNaCl                       1.5.0\r\npyodbc                       5.0.1\r\npyOpenSSL                    23.3.0\r\npyparsing                    3.1.2\r\npyperclip                    1.8.2\r\nPyQt5                        5.15.9\r\nPyQt5-sip                    12.12.2\r\nPySocks                      1.7.1\r\npyspark                      3.4.1.5.3.20230713\r\npython-dateutil              2.9.0\r\npython-json-logger           2.0.7\r\npythonnet                    3.0.3\r\npytz                         2023.4\r\npyu2f                        0.1.5\r\nPyYAML                       6.0.1\r\npyzmq                        25.1.2\r\nreferencing                  0.33.0\r\nregex                        2023.12.25\r\nrequests                     2.31.0\r\nrequests-oauthlib            1.4.0\r\nretrying                     1.3.3\r\nrfc3339-validator            0.1.4\r\nrfc3986-validator            0.1.1\r\nrpds-py                      0.18.0\r\nrsa                          4.9\r\nruamel.yaml                  0.18.5\r\nruamel.yaml.clib             0.2.7\r\nruamel-yaml-conda            0.15.80\r\nSALib                        1.4.8\r\nscikit-learn                 1.3.2\r\nscipy                        1.11.4\r\nseaborn                      0.13.1\r\nSecretStorage                3.3.3\r\nSend2Trash                   1.8.2\r\nsetuptools                   69.2.0\r\nshap                         0.44.0\r\nsip                          6.7.12\r\nsix                          1.16.0\r\nslicer                       0.0.7\r\nsmmap                        5.0.0\r\nsniffio                      1.3.1\r\nsoupsieve                    2.5\r\nspark-nlp                    5.5.1\r\nSQLAlchemy                   2.0.28\r\nsqlanalyticsconnectorpy      1.0.1\r\nsqlparse                     0.4.4\r\nstack-data                   0.6.2\r\nstatsmodels                  0.14.1\r\nstrictyaml                   1.7.3\r\nsympy                        1.12\r\nsynapseml-cognitive          1.0.7\r\nsynapseml-core               1.0.7\r\nsynapseml-deep-learning      1.0.7\r\nsynapseml-internal           1.0.7.0.dev1\r\nsynapseml-lightgbm           1.0.7\r\nsynapseml-opencv             1.0.7\r\nsynapseml-vw                 1.0.7\r\ntabulate                     0.9.0\r\ntenacity                     8.2.3\r\ntensorboard                  2.15.2\r\ntensorboard-data-server      0.7.0\r\ntensorflow                   2.15.0\r\ntensorflow_estimator         2.15.0\r\ntermcolor                    2.4.0\r\nterminado                    0.18.1\r\nthreadpoolctl                3.3.0\r\ntinycss2                     1.2.1\r\ntoml                         0.10.2\r\ntomli                        2.0.1\r\ntoolz                        0.12.1\r\ntorch                        2.0.1\r\ntornado                      6.4\r\ntqdm                         4.66.2\r\ntraitlets                    5.14.2\r\ntyped-ast                    1.5.5\r\ntypes-python-dateutil        2.8.19.20240311\r\ntyping_extensions            4.10.0\r\ntyping-utils                 0.1.0\r\nunicodedata2                 15.1.0\r\nuri-template                 1.3.0\r\nurllib3                      2.1.0\r\nvirtualenv                   20.23.1\r\nwcwidth                      0.2.13\r\nwebcolors                    1.13\r\nwebencodings                 0.5.1\r\nwebsocket-client             1.7.0\r\nWerkzeug                     3.0.1\r\nwheel                        0.42.0\r\nwidgetsnbextension           4.0.10\r\nwrapt                        1.14.1\r\nxgboost                      2.0.3\r\nyarl                         1.9.4\r\nzipp                         3.17.0\r\nzope.event                   5.0\r\nzope.interface               6.2\r\nzstandard                    0.22.0\r\n"
        }
      ],
      "execution_count": 2,
      "metadata": {
        "jupyter": {
          "source_hidden": false,
          "outputs_hidden": false
        },
        "nteract": {
          "transient": {
            "deleting": false
          }
        }
      }
    },
    {
      "cell_type": "code",
      "source": [
        "import sparknlp\n",
        "from sparknlp.annotator import *\n",
        "from sparknlp.pretrained import *\n",
        "\n",
        "print(\"Spark NLP version: \", sparknlp.version())\n",
        "print(\"Apache Spark version: \", spark.version)"
      ],
      "outputs": [
        {
          "output_type": "display_data",
          "data": {
            "application/vnd.livy.statement-meta+json": {
              "spark_pool": "5aa47e66-3850-4695-81a4-35db9fdf0332",
              "statement_id": 10,
              "statement_ids": [
                10
              ],
              "state": "finished",
              "livy_statement_state": "available",
              "spark_jobs": {
                "numbers": {
                  "UNKNOWN": 0,
                  "RUNNING": 0,
                  "SUCCEEDED": 0,
                  "FAILED": 0
                },
                "jobs": [],
                "limit": 20,
                "rule": "ALL_DESC"
              },
              "session_id": "6",
              "normalized_state": "finished",
              "queued_time": "2024-11-14T17:36:53.1344594Z",
              "session_start_time": null,
              "execution_start_time": "2024-11-14T17:36:53.4113885Z",
              "execution_finish_time": "2024-11-14T17:36:53.7473246Z",
              "parent_msg_id": "4930a9c3-323f-4335-bc1a-e7993c8ac698"
            },
            "text/plain": "StatementMeta(5aa47e66-3850-4695-81a4-35db9fdf0332, 6, 10, Finished, Available, Finished)"
          },
          "metadata": {}
        },
        {
          "output_type": "stream",
          "name": "stdout",
          "text": "Spark NLP version:  5.5.1\nApache Spark version:  3.4.3.5.3.20241016.1\n"
        }
      ],
      "execution_count": 5,
      "metadata": {
        "gather": {
          "logged": 1731605813922
        }
      }
    },
    {
      "cell_type": "code",
      "source": [
        "os.system('ip a')"
      ],
      "outputs": [
        {
          "output_type": "display_data",
          "data": {
            "application/vnd.livy.statement-meta+json": {
              "spark_pool": "5aa47e66-3850-4695-81a4-35db9fdf0332",
              "statement_id": 9,
              "statement_ids": [
                9
              ],
              "state": "finished",
              "livy_statement_state": "available",
              "spark_jobs": {
                "numbers": {
                  "UNKNOWN": 0,
                  "RUNNING": 0,
                  "SUCCEEDED": 0,
                  "FAILED": 0
                },
                "jobs": [],
                "limit": 20,
                "rule": "ALL_DESC"
              },
              "session_id": "6",
              "normalized_state": "finished",
              "queued_time": "2024-11-14T17:26:38.4853234Z",
              "session_start_time": null,
              "execution_start_time": "2024-11-14T17:26:38.6116264Z",
              "execution_finish_time": "2024-11-14T17:26:38.9229479Z",
              "parent_msg_id": "900e5782-aae1-4257-aff8-4e34f5fb2853"
            },
            "text/plain": "StatementMeta(5aa47e66-3850-4695-81a4-35db9fdf0332, 6, 9, Finished, Available, Finished)"
          },
          "metadata": {}
        },
        {
          "output_type": "stream",
          "name": "stdout",
          "text": "1: lo: <LOOPBACK,UP,LOWER_UP> mtu 65536 qdisc noqueue state UNKNOWN group default qlen 1000\n    link/loopback 00:00:00:00:00:00 brd 00:00:00:00:00:00\n    inet 127.0.0.1/8 scope host lo\n       valid_lft forever preferred_lft forever\n    inet6 ::1/128 scope host \n       valid_lft forever preferred_lft forever\n2: eth0: <BROADCAST,MULTICAST,UP,LOWER_UP> mtu 1500 qdisc mq state UP group default qlen 1000\n    link/ether 60:45:bd:d6:65:ae brd ff:ff:ff:ff:ff:ff\n    inet 10.0.136.1/19 metric 1024 brd 10.0.159.255 scope global dynamic eth0\n       valid_lft 4294966604sec preferred_lft 4294966604sec\n    inet6 fe80::6245:bdff:fed6:65ae/64 scope link \n       valid_lft forever preferred_lft forever\n"
        },
        {
          "output_type": "execute_result",
          "execution_count": 17,
          "data": {
            "text/plain": "0"
          },
          "metadata": {}
        }
      ],
      "execution_count": 4,
      "metadata": {
        "jupyter": {
          "source_hidden": false,
          "outputs_hidden": false
        },
        "nteract": {
          "transient": {
            "deleting": false
          }
        },
        "gather": {
          "logged": 1731605199121
        }
      }
    },
    {
      "cell_type": "code",
      "source": [
        "data = spark.createDataFrame([['Peter is a goud person.']]).toDF('text')"
      ],
      "outputs": [
        {
          "output_type": "display_data",
          "data": {
            "application/vnd.livy.statement-meta+json": {
              "spark_pool": "5aa47e66-3850-4695-81a4-35db9fdf0332",
              "statement_id": 11,
              "statement_ids": [
                11
              ],
              "state": "finished",
              "livy_statement_state": "available",
              "spark_jobs": {
                "numbers": {
                  "UNKNOWN": 0,
                  "RUNNING": 0,
                  "SUCCEEDED": 0,
                  "FAILED": 0
                },
                "jobs": [],
                "limit": 20,
                "rule": "ALL_DESC"
              },
              "session_id": "6",
              "normalized_state": "finished",
              "queued_time": "2024-11-14T17:36:58.3211921Z",
              "session_start_time": null,
              "execution_start_time": "2024-11-14T17:36:58.467888Z",
              "execution_finish_time": "2024-11-14T17:37:00.9505939Z",
              "parent_msg_id": "0830fd18-a896-4bac-aea9-bfb5d299f6d0"
            },
            "text/plain": "StatementMeta(5aa47e66-3850-4695-81a4-35db9fdf0332, 6, 11, Finished, Available, Finished)"
          },
          "metadata": {}
        }
      ],
      "execution_count": 6,
      "metadata": {
        "gather": {
          "logged": 1731605821130
        }
      }
    },
    {
      "cell_type": "code",
      "source": [
        "data"
      ],
      "outputs": [
        {
          "output_type": "display_data",
          "data": {
            "application/vnd.livy.statement-meta+json": {
              "spark_pool": "5aa47e66-3850-4695-81a4-35db9fdf0332",
              "statement_id": 12,
              "statement_ids": [
                12
              ],
              "state": "finished",
              "livy_statement_state": "available",
              "spark_jobs": {
                "numbers": {
                  "UNKNOWN": 0,
                  "RUNNING": 0,
                  "SUCCEEDED": 0,
                  "FAILED": 0
                },
                "jobs": [],
                "limit": 20,
                "rule": "ALL_DESC"
              },
              "session_id": "6",
              "normalized_state": "finished",
              "queued_time": "2024-11-14T17:37:37.5692307Z",
              "session_start_time": null,
              "execution_start_time": "2024-11-14T17:37:37.7409592Z",
              "execution_finish_time": "2024-11-14T17:37:38.0761459Z",
              "parent_msg_id": "b33894f3-3f32-4212-89f0-a65bb00656c4"
            },
            "text/plain": "StatementMeta(5aa47e66-3850-4695-81a4-35db9fdf0332, 6, 12, Finished, Available, Finished)"
          },
          "metadata": {}
        },
        {
          "output_type": "execute_result",
          "execution_count": 23,
          "data": {
            "text/plain": "DataFrame[text: string]"
          },
          "metadata": {}
        }
      ],
      "execution_count": 7,
      "metadata": {
        "gather": {
          "logged": 1731605858239
        },
        "jupyter": {
          "outputs_hidden": false,
          "source_hidden": false
        },
        "nteract": {
          "transient": {
            "deleting": false
          }
        }
      }
    },
    {
      "cell_type": "code",
      "source": [
        "blob_account_name = \"dsan6000fall2024\"\n",
        "blob_container_name = \"reddit-project\"\n",
        "wasbs_base_url = (\n",
        "    f\"wasbs://{blob_container_name}@{blob_account_name}.blob.core.windows.net/\"\n",
        ")\n",
        "comments_path = \"202306-202407/comments/\"\n",
        "submissions_path = \"202306-202407/submissions/\"\n",
        "comments_single = \"yyyy=2023/mm=11/comments_RC_2023-11.zst_9.parquet\"\n",
        "submissions_single = \"yyyy=2023/mm=11/submissions_RS_2023-11.zst_36.parquet\"\n",
        "comments_single_df = spark.read.parquet(f\"{wasbs_base_url}{comments_path}{comments_single}\")\n",
        "submissions_single_df = spark.read.parquet(f\"{wasbs_base_url}{submissions_path}{submissions_single}\")"
      ],
      "outputs": [
        {
          "output_type": "display_data",
          "data": {
            "application/vnd.livy.statement-meta+json": {
              "spark_pool": "5aa47e66-3850-4695-81a4-35db9fdf0332",
              "statement_id": 13,
              "statement_ids": [
                13
              ],
              "state": "finished",
              "livy_statement_state": "available",
              "spark_jobs": {
                "numbers": {
                  "UNKNOWN": 0,
                  "RUNNING": 0,
                  "SUCCEEDED": 2,
                  "FAILED": 0
                },
                "jobs": [
                  {
                    "displayName": "parquet at NativeMethodAccessorImpl.java:0",
                    "dataWritten": 0,
                    "dataRead": 0,
                    "rowCount": 0,
                    "usageDescription": "",
                    "jobId": 1,
                    "name": "parquet at NativeMethodAccessorImpl.java:0",
                    "description": "Job group for statement 13:\nblob_account_name = \"dsan6000fall2024\"\nblob_container_name = \"reddit-project\"\nwasbs_base_url = (\n    f\"wasbs://{blob_container_name}@{blob_account_name}.blob.core.windows.net/\"\n)\ncomments_path = \"202306-202407/comments/\"\nsubmissions_path = \"202306-202407/submissions/\"\ncomments_single = \"yyyy=2023/mm=11/comments_RC_2023-11.zst_9.parquet\"\nsubmissions_single = \"yyyy=2023/mm=11/submissions_RS_2023-11.zst_36.parquet\"\ncomments_single_df = spark.read.parquet(f\"{wasbs_base_url}{comments_path}{comments_single}\")\nsubmissions_single_df = spark.read.parquet(f\"{wasbs_base_url}{submissions_path}{submissions_single}\")",
                    "submissionTime": "2024-11-14T17:38:23.625GMT",
                    "completionTime": "2024-11-14T17:38:23.875GMT",
                    "stageIds": [
                      1
                    ],
                    "jobGroup": "13",
                    "jobTags": [],
                    "status": "SUCCEEDED",
                    "numTasks": 1,
                    "numActiveTasks": 0,
                    "numCompletedTasks": 1,
                    "numSkippedTasks": 0,
                    "numFailedTasks": 0,
                    "numKilledTasks": 0,
                    "numCompletedIndices": 1,
                    "numActiveStages": 0,
                    "numCompletedStages": 1,
                    "numSkippedStages": 0,
                    "numFailedStages": 0,
                    "killedTasksSummary": {}
                  },
                  {
                    "displayName": "parquet at NativeMethodAccessorImpl.java:0",
                    "dataWritten": 0,
                    "dataRead": 0,
                    "rowCount": 0,
                    "usageDescription": "",
                    "jobId": 0,
                    "name": "parquet at NativeMethodAccessorImpl.java:0",
                    "description": "Job group for statement 13:\nblob_account_name = \"dsan6000fall2024\"\nblob_container_name = \"reddit-project\"\nwasbs_base_url = (\n    f\"wasbs://{blob_container_name}@{blob_account_name}.blob.core.windows.net/\"\n)\ncomments_path = \"202306-202407/comments/\"\nsubmissions_path = \"202306-202407/submissions/\"\ncomments_single = \"yyyy=2023/mm=11/comments_RC_2023-11.zst_9.parquet\"\nsubmissions_single = \"yyyy=2023/mm=11/submissions_RS_2023-11.zst_36.parquet\"\ncomments_single_df = spark.read.parquet(f\"{wasbs_base_url}{comments_path}{comments_single}\")\nsubmissions_single_df = spark.read.parquet(f\"{wasbs_base_url}{submissions_path}{submissions_single}\")",
                    "submissionTime": "2024-11-14T17:38:15.835GMT",
                    "completionTime": "2024-11-14T17:38:23.247GMT",
                    "stageIds": [
                      0
                    ],
                    "jobGroup": "13",
                    "jobTags": [],
                    "status": "SUCCEEDED",
                    "numTasks": 1,
                    "numActiveTasks": 0,
                    "numCompletedTasks": 1,
                    "numSkippedTasks": 0,
                    "numFailedTasks": 0,
                    "numKilledTasks": 0,
                    "numCompletedIndices": 1,
                    "numActiveStages": 0,
                    "numCompletedStages": 1,
                    "numSkippedStages": 0,
                    "numFailedStages": 0,
                    "killedTasksSummary": {}
                  }
                ],
                "limit": 20,
                "rule": "ALL_DESC"
              },
              "session_id": "6",
              "normalized_state": "finished",
              "queued_time": "2024-11-14T17:38:14.4558112Z",
              "session_start_time": null,
              "execution_start_time": "2024-11-14T17:38:14.6240906Z",
              "execution_finish_time": "2024-11-14T17:38:25.5524435Z",
              "parent_msg_id": "6877977a-fd27-4253-8132-da2c79f60a4e"
            },
            "text/plain": "StatementMeta(5aa47e66-3850-4695-81a4-35db9fdf0332, 6, 13, Finished, Available, Finished)"
          },
          "metadata": {}
        }
      ],
      "execution_count": 8,
      "metadata": {
        "jupyter": {
          "source_hidden": false,
          "outputs_hidden": false
        },
        "nteract": {
          "transient": {
            "deleting": false
          }
        },
        "gather": {
          "logged": 1731605905691
        }
      }
    },
    {
      "cell_type": "code",
      "source": [
        "comments_single_df.show()"
      ],
      "outputs": [
        {
          "output_type": "display_data",
          "data": {
            "application/vnd.livy.statement-meta+json": {
              "spark_pool": "5aa47e66-3850-4695-81a4-35db9fdf0332",
              "statement_id": 15,
              "statement_ids": [
                15
              ],
              "state": "finished",
              "livy_statement_state": "available",
              "spark_jobs": {
                "numbers": {
                  "UNKNOWN": 0,
                  "RUNNING": 0,
                  "SUCCEEDED": 2,
                  "FAILED": 0
                },
                "jobs": [
                  {
                    "displayName": "showString at NativeMethodAccessorImpl.java:0",
                    "dataWritten": 0,
                    "dataRead": 104232924,
                    "rowCount": 4096,
                    "usageDescription": "",
                    "jobId": 3,
                    "name": "showString at NativeMethodAccessorImpl.java:0",
                    "description": "Job group for statement 15:\ncomments_single_df.show()",
                    "submissionTime": "2024-11-14T17:38:59.710GMT",
                    "completionTime": "2024-11-14T17:39:11.760GMT",
                    "stageIds": [
                      3
                    ],
                    "jobGroup": "15",
                    "jobTags": [],
                    "status": "SUCCEEDED",
                    "numTasks": 4,
                    "numActiveTasks": 0,
                    "numCompletedTasks": 4,
                    "numSkippedTasks": 0,
                    "numFailedTasks": 0,
                    "numKilledTasks": 0,
                    "numCompletedIndices": 4,
                    "numActiveStages": 0,
                    "numCompletedStages": 1,
                    "numSkippedStages": 0,
                    "numFailedStages": 0,
                    "killedTasksSummary": {}
                  },
                  {
                    "displayName": "showString at NativeMethodAccessorImpl.java:0",
                    "dataWritten": 0,
                    "dataRead": 18214,
                    "rowCount": 0,
                    "usageDescription": "",
                    "jobId": 2,
                    "name": "showString at NativeMethodAccessorImpl.java:0",
                    "description": "Job group for statement 15:\ncomments_single_df.show()",
                    "submissionTime": "2024-11-14T17:38:57.150GMT",
                    "completionTime": "2024-11-14T17:38:59.612GMT",
                    "stageIds": [
                      2
                    ],
                    "jobGroup": "15",
                    "jobTags": [],
                    "status": "SUCCEEDED",
                    "numTasks": 1,
                    "numActiveTasks": 0,
                    "numCompletedTasks": 1,
                    "numSkippedTasks": 0,
                    "numFailedTasks": 0,
                    "numKilledTasks": 0,
                    "numCompletedIndices": 1,
                    "numActiveStages": 0,
                    "numCompletedStages": 1,
                    "numSkippedStages": 0,
                    "numFailedStages": 0,
                    "killedTasksSummary": {}
                  }
                ],
                "limit": 20,
                "rule": "ALL_DESC"
              },
              "session_id": "6",
              "normalized_state": "finished",
              "queued_time": "2024-11-14T17:38:54.9034906Z",
              "session_start_time": null,
              "execution_start_time": "2024-11-14T17:38:55.108999Z",
              "execution_finish_time": "2024-11-14T17:39:14.1563089Z",
              "parent_msg_id": "fac81db8-624d-40ef-b8ce-36ddd40c014a"
            },
            "text/plain": "StatementMeta(5aa47e66-3850-4695-81a4-35db9fdf0332, 6, 15, Finished, Available, Finished)"
          },
          "metadata": {}
        },
        {
          "output_type": "stream",
          "name": "stdout",
          "text": "+--------------------+----------------------+--------------------+--------------------+----------------+-----------+-------------+-------------+------+-------+----------+----------+------------+-----+--------+--------------------+------------+\n|              author|author_flair_css_class|   author_flair_text|                body|controversiality|created_utc|distinguished|       edited|gilded|     id|   link_id| parent_id|retrieved_on|score|stickied|           subreddit|subreddit_id|\n+--------------------+----------------------+--------------------+--------------------+----------------+-----------+-------------+-------------+------+-------+----------+----------+------------+-----+--------+--------------------+------------+\n|           EmmaLuver|                  null|                null|She should be tha...|               0| 1698880517|         null|         null|     0|k7fn42z|t3_17llf72|t3_17llf72|  1698880531|    6|   false|  CharliDamelioMommy|   t5_6axxah|\n|           haynick31|                  null|                null|To think people e...|               0| 1698880517|         null|         null|     0|k7fn430|t3_17lmtmj|t3_17lmtmj|  1698880531|    2|   false|         TeslaLounge|    t5_3j3bn|\n|    Flaky-Zebra-5017|                  null|                null|I’d take the Uber...|               0| 1698880517|         null|         null|     0|k7fn431|t3_17jmydg|t3_17jmydg|  1698880531|    1|   false|         TyKwonDoeTV|   t5_5n5rqm|\n|Electronic_Music_808|                  null|                null|But you cant corr...|               0| 1698880517|         null|         null|     0|k7fn432|t3_17lkkfv|t3_17lkkfv|  1698880531|    1|   false|  NoNutNovember2023x|   t5_9sc4px|\n|     Pew_Pew_Lookout|                  null|                null|It's wild how pro...|               0| 1698880517|         null|         null|     0|k7fn433|t3_17lcn7b|t3_17lcn7b|  1698880531|   13|   false|              progun|    t5_2vtr4|\n| AccomplishedLeg5334|                  null|                null|   What is salt tek?|               0| 1698880517|         null|         null|     0|k7fn434| t3_wjubll|t1_ijv7zkw|  1698880531|    1|   false|                 DMT|    t5_2qhvk|\n|          muSHHrooms|                  null|                null|please do (not) g...|               0| 1698880517|         null|         null|     0|k7fn435|t3_17lp5f1|t1_k7fmpyi|  1698880531|    1|   false|  AskRedditAfterDark|    t5_2vh2s|\n|           bagworm01|                  null|                null|If that were the ...|               0| 1698880517|         null|         null|     0|k7fn436|t3_17lchlu|t1_k7fmk73|  1698880531|    1|   false|             pokemon|    t5_2qmeb|\n|       AutoModerator|                  null|                null|/u/YourSpicySutra...|               0| 1698880517|    moderator|         null|     0|k7fn437|t3_17lp8bt|t3_17lp8bt|  1698880531|    1|    true|     gonewildcouples|    t5_2u5bf|\n|           Phuzion69|                  null|                null|Simple answer her...|               0| 1698880517|         null|         null|     0|k7fn438|t3_17ld4od|t3_17ld4od|  1698880531|    1|   false|            amiwrong|    t5_2sf00|\n|       Pfernwtt42017|                  null|                null|             Awesome|               0| 1698880517|         null|         null|     0|k7fn439|t3_17l0cys|t3_17l0cys|  1698880531|    1|   false|                 WWE|    t5_2rau9|\n|    motionlessinwifi|                  null|16NB *not horny, ...|I should've added...|               0| 1698880517|         null|         null|     0|k7fn43a|t3_17lp3pu|t1_k7fmuh1|  1698880531|    1|   false|     teenagersbuthot|   t5_4qkqf1|\n|            dawidl93|                  null|                null|I'd like to prefa...|               0| 1698880517|         null|1.698881935E9|     0|k7fn43b|t3_17gdxfy|t1_k6g3l1g|  1698880531|    1|   false|               forza|    t5_2rzao|\n|       AutoModerator|                  null|                null|If you enjoy our ...|               0| 1698880517|    moderator|         null|     0|k7fn43c|t3_17lp8by|t3_17lp8by|  1698880531|    1|    true|Sex_Feet_Kinks_Fe...|   t5_7wv27v|\n|        Juco_Dropout|                  null|                null|How would these s...|               0| 1698880517|         null|         null|     0|k7fn43d|t3_17lmmbk|t3_17lmmbk|  1698880531|    3|   false|            facepalm|    t5_2r5rp|\n|   FineDevelopment00|             blackpill|👻The PPD (female...|>It is for most g...|               0| 1698880517|         null|         null|     0|k7fn43e|t3_17lhupa|t1_k7fdv6u|  1698880531|    2|   false|    PurplePillDebate|    t5_2ya42|\n| PM_ME_YOUR_ISOTOPES|                  null|                null|If you understood...|               0| 1698880517|         null|         null|     0|k7fn43f|t3_17l34ke|t1_k7f7cge|  1698880531|    2|   false|       AmItheAsshole|    t5_2xhvq|\n|         FukLysander|                  null|                null|According to toda...|               0| 1698880517|         null|         null|     0|k7fn43g|t3_17ljzwp|t1_k7f7eb4|  1698880531|    6|   false|MarvelStudiosSpoi...|    t5_3e7dq|\n|          yassnaiara|                  null|        Verified WBO|am i worth the ri...|               0| 1698880517|         null|         null|     0|k7fn43h|t3_17lnuyf|t1_k7fm09j|  1698880531|    2|   false|    WomenBendingOver|    t5_3e7g9|\n|         scratchblue|                  null|                null|What's your wrist...|               0| 1698880517|         null|         null|     0|k7fn43i|t3_17lf7ot|t3_17lf7ot|  1698880531|    2|   false|             Watches|    t5_2qls5|\n+--------------------+----------------------+--------------------+--------------------+----------------+-----------+-------------+-------------+------+-------+----------+----------+------------+-----+--------+--------------------+------------+\nonly showing top 20 rows\n\n"
        }
      ],
      "execution_count": 10,
      "metadata": {
        "jupyter": {
          "source_hidden": false,
          "outputs_hidden": false
        },
        "nteract": {
          "transient": {
            "deleting": false
          }
        },
        "gather": {
          "logged": 1731605954339
        }
      }
    },
    {
      "cell_type": "code",
      "source": [
        "pipeline = PretrainedPipeline('explain_document_ml')"
      ],
      "outputs": [
        {
          "output_type": "display_data",
          "data": {
            "application/vnd.livy.statement-meta+json": {
              "spark_pool": "5aa47e66-3850-4695-81a4-35db9fdf0332",
              "statement_id": 16,
              "statement_ids": [
                16
              ],
              "state": "finished",
              "livy_statement_state": "available",
              "spark_jobs": {
                "numbers": {
                  "UNKNOWN": 0,
                  "RUNNING": 0,
                  "SUCCEEDED": 23,
                  "FAILED": 0
                },
                "jobs": [
                  {
                    "displayName": "first at Feature.scala:182",
                    "dataWritten": 0,
                    "dataRead": 15324069,
                    "rowCount": 1,
                    "usageDescription": "",
                    "jobId": 26,
                    "name": "first at Feature.scala:182",
                    "description": "Job group for statement 16:\npipeline = PretrainedPipeline('explain_document_ml')",
                    "submissionTime": "2024-11-14T17:39:59.816GMT",
                    "completionTime": "2024-11-14T17:40:02.830GMT",
                    "stageIds": [
                      26
                    ],
                    "jobGroup": "16",
                    "jobTags": [],
                    "status": "SUCCEEDED",
                    "numTasks": 4,
                    "numActiveTasks": 0,
                    "numCompletedTasks": 4,
                    "numSkippedTasks": 0,
                    "numFailedTasks": 0,
                    "numKilledTasks": 0,
                    "numCompletedIndices": 4,
                    "numActiveStages": 0,
                    "numCompletedStages": 1,
                    "numSkippedStages": 0,
                    "numFailedStages": 0,
                    "killedTasksSummary": {}
                  },
                  {
                    "displayName": "first at Feature.scala:182",
                    "dataWritten": 0,
                    "dataRead": 380,
                    "rowCount": 0,
                    "usageDescription": "",
                    "jobId": 25,
                    "name": "first at Feature.scala:182",
                    "description": "Job group for statement 16:\npipeline = PretrainedPipeline('explain_document_ml')",
                    "submissionTime": "2024-11-14T17:39:59.662GMT",
                    "completionTime": "2024-11-14T17:39:59.792GMT",
                    "stageIds": [
                      25
                    ],
                    "jobGroup": "16",
                    "jobTags": [],
                    "status": "SUCCEEDED",
                    "numTasks": 4,
                    "numActiveTasks": 0,
                    "numCompletedTasks": 4,
                    "numSkippedTasks": 0,
                    "numFailedTasks": 0,
                    "numKilledTasks": 0,
                    "numCompletedIndices": 4,
                    "numActiveStages": 0,
                    "numCompletedStages": 1,
                    "numSkippedStages": 0,
                    "numFailedStages": 0,
                    "killedTasksSummary": {}
                  },
                  {
                    "displayName": "first at Feature.scala:182",
                    "dataWritten": 0,
                    "dataRead": 95,
                    "rowCount": 0,
                    "usageDescription": "",
                    "jobId": 24,
                    "name": "first at Feature.scala:182",
                    "description": "Job group for statement 16:\npipeline = PretrainedPipeline('explain_document_ml')",
                    "submissionTime": "2024-11-14T17:39:59.500GMT",
                    "completionTime": "2024-11-14T17:39:59.652GMT",
                    "stageIds": [
                      24
                    ],
                    "jobGroup": "16",
                    "jobTags": [],
                    "status": "SUCCEEDED",
                    "numTasks": 1,
                    "numActiveTasks": 0,
                    "numCompletedTasks": 1,
                    "numSkippedTasks": 0,
                    "numFailedTasks": 0,
                    "numKilledTasks": 0,
                    "numCompletedIndices": 1,
                    "numActiveStages": 0,
                    "numCompletedStages": 1,
                    "numSkippedStages": 0,
                    "numFailedStages": 0,
                    "killedTasksSummary": {}
                  },
                  {
                    "displayName": "first at ReadWrite.scala:587",
                    "dataWritten": 0,
                    "dataRead": 255,
                    "rowCount": 1,
                    "usageDescription": "",
                    "jobId": 23,
                    "name": "first at ReadWrite.scala:587",
                    "description": "Job group for statement 16:\npipeline = PretrainedPipeline('explain_document_ml')",
                    "submissionTime": "2024-11-14T17:39:59.246GMT",
                    "completionTime": "2024-11-14T17:39:59.337GMT",
                    "stageIds": [
                      23
                    ],
                    "jobGroup": "16",
                    "jobTags": [],
                    "status": "SUCCEEDED",
                    "numTasks": 1,
                    "numActiveTasks": 0,
                    "numCompletedTasks": 1,
                    "numSkippedTasks": 0,
                    "numFailedTasks": 0,
                    "numKilledTasks": 0,
                    "numCompletedIndices": 1,
                    "numActiveStages": 0,
                    "numCompletedStages": 1,
                    "numSkippedStages": 0,
                    "numFailedStages": 0,
                    "killedTasksSummary": {}
                  },
                  {
                    "displayName": "first at ReadWrite.scala:587",
                    "dataWritten": 0,
                    "dataRead": 255,
                    "rowCount": 1,
                    "usageDescription": "",
                    "jobId": 22,
                    "name": "first at ReadWrite.scala:587",
                    "description": "Job group for statement 16:\npipeline = PretrainedPipeline('explain_document_ml')",
                    "submissionTime": "2024-11-14T17:39:59.061GMT",
                    "completionTime": "2024-11-14T17:39:59.165GMT",
                    "stageIds": [
                      22
                    ],
                    "jobGroup": "16",
                    "jobTags": [],
                    "status": "SUCCEEDED",
                    "numTasks": 1,
                    "numActiveTasks": 0,
                    "numCompletedTasks": 1,
                    "numSkippedTasks": 0,
                    "numFailedTasks": 0,
                    "numKilledTasks": 0,
                    "numCompletedIndices": 1,
                    "numActiveStages": 0,
                    "numCompletedStages": 1,
                    "numSkippedStages": 0,
                    "numFailedStages": 0,
                    "killedTasksSummary": {}
                  },
                  {
                    "displayName": "first at ReadWrite.scala:587",
                    "dataWritten": 0,
                    "dataRead": 248,
                    "rowCount": 1,
                    "usageDescription": "",
                    "jobId": 21,
                    "name": "first at ReadWrite.scala:587",
                    "description": "Job group for statement 16:\npipeline = PretrainedPipeline('explain_document_ml')",
                    "submissionTime": "2024-11-14T17:39:58.869GMT",
                    "completionTime": "2024-11-14T17:39:58.959GMT",
                    "stageIds": [
                      21
                    ],
                    "jobGroup": "16",
                    "jobTags": [],
                    "status": "SUCCEEDED",
                    "numTasks": 1,
                    "numActiveTasks": 0,
                    "numCompletedTasks": 1,
                    "numSkippedTasks": 0,
                    "numFailedTasks": 0,
                    "numKilledTasks": 0,
                    "numCompletedIndices": 1,
                    "numActiveStages": 0,
                    "numCompletedStages": 1,
                    "numSkippedStages": 0,
                    "numFailedStages": 0,
                    "killedTasksSummary": {}
                  },
                  {
                    "displayName": "first at ReadWrite.scala:587",
                    "dataWritten": 0,
                    "dataRead": 248,
                    "rowCount": 1,
                    "usageDescription": "",
                    "jobId": 20,
                    "name": "first at ReadWrite.scala:587",
                    "description": "Job group for statement 16:\npipeline = PretrainedPipeline('explain_document_ml')",
                    "submissionTime": "2024-11-14T17:39:58.672GMT",
                    "completionTime": "2024-11-14T17:39:58.759GMT",
                    "stageIds": [
                      20
                    ],
                    "jobGroup": "16",
                    "jobTags": [],
                    "status": "SUCCEEDED",
                    "numTasks": 1,
                    "numActiveTasks": 0,
                    "numCompletedTasks": 1,
                    "numSkippedTasks": 0,
                    "numFailedTasks": 0,
                    "numKilledTasks": 0,
                    "numCompletedIndices": 1,
                    "numActiveStages": 0,
                    "numCompletedStages": 1,
                    "numSkippedStages": 0,
                    "numFailedStages": 0,
                    "killedTasksSummary": {}
                  },
                  {
                    "displayName": "collect at Feature.scala:235",
                    "dataWritten": 0,
                    "dataRead": 3606368,
                    "rowCount": 9104,
                    "usageDescription": "",
                    "jobId": 19,
                    "name": "collect at Feature.scala:235",
                    "description": "Job group for statement 16:\npipeline = PretrainedPipeline('explain_document_ml')",
                    "submissionTime": "2024-11-14T17:39:57.418GMT",
                    "completionTime": "2024-11-14T17:39:57.900GMT",
                    "stageIds": [
                      19
                    ],
                    "jobGroup": "16",
                    "jobTags": [],
                    "status": "SUCCEEDED",
                    "numTasks": 8,
                    "numActiveTasks": 0,
                    "numCompletedTasks": 8,
                    "numSkippedTasks": 0,
                    "numFailedTasks": 0,
                    "numKilledTasks": 0,
                    "numCompletedIndices": 8,
                    "numActiveStages": 0,
                    "numCompletedStages": 1,
                    "numSkippedStages": 0,
                    "numFailedStages": 0,
                    "killedTasksSummary": {}
                  },
                  {
                    "displayName": "first at ReadWrite.scala:587",
                    "dataWritten": 0,
                    "dataRead": 239,
                    "rowCount": 1,
                    "usageDescription": "",
                    "jobId": 18,
                    "name": "first at ReadWrite.scala:587",
                    "description": "Job group for statement 16:\npipeline = PretrainedPipeline('explain_document_ml')",
                    "submissionTime": "2024-11-14T17:39:57.146GMT",
                    "completionTime": "2024-11-14T17:39:57.240GMT",
                    "stageIds": [
                      18
                    ],
                    "jobGroup": "16",
                    "jobTags": [],
                    "status": "SUCCEEDED",
                    "numTasks": 1,
                    "numActiveTasks": 0,
                    "numCompletedTasks": 1,
                    "numSkippedTasks": 0,
                    "numFailedTasks": 0,
                    "numKilledTasks": 0,
                    "numCompletedIndices": 1,
                    "numActiveStages": 0,
                    "numCompletedStages": 1,
                    "numSkippedStages": 0,
                    "numFailedStages": 0,
                    "killedTasksSummary": {}
                  },
                  {
                    "displayName": "first at ReadWrite.scala:587",
                    "dataWritten": 0,
                    "dataRead": 239,
                    "rowCount": 1,
                    "usageDescription": "",
                    "jobId": 17,
                    "name": "first at ReadWrite.scala:587",
                    "description": "Job group for statement 16:\npipeline = PretrainedPipeline('explain_document_ml')",
                    "submissionTime": "2024-11-14T17:39:56.882GMT",
                    "completionTime": "2024-11-14T17:39:57.014GMT",
                    "stageIds": [
                      17
                    ],
                    "jobGroup": "16",
                    "jobTags": [],
                    "status": "SUCCEEDED",
                    "numTasks": 1,
                    "numActiveTasks": 0,
                    "numCompletedTasks": 1,
                    "numSkippedTasks": 0,
                    "numFailedTasks": 0,
                    "numKilledTasks": 0,
                    "numCompletedIndices": 1,
                    "numActiveStages": 0,
                    "numCompletedStages": 1,
                    "numSkippedStages": 0,
                    "numFailedStages": 0,
                    "killedTasksSummary": {}
                  },
                  {
                    "displayName": "collect at Feature.scala:235",
                    "dataWritten": 0,
                    "dataRead": 21394031,
                    "rowCount": 50320,
                    "usageDescription": "",
                    "jobId": 16,
                    "name": "collect at Feature.scala:235",
                    "description": "Job group for statement 16:\npipeline = PretrainedPipeline('explain_document_ml')",
                    "submissionTime": "2024-11-14T17:39:50.770GMT",
                    "completionTime": "2024-11-14T17:39:53.242GMT",
                    "stageIds": [
                      16
                    ],
                    "jobGroup": "16",
                    "jobTags": [],
                    "status": "SUCCEEDED",
                    "numTasks": 8,
                    "numActiveTasks": 0,
                    "numCompletedTasks": 8,
                    "numSkippedTasks": 0,
                    "numFailedTasks": 0,
                    "numKilledTasks": 0,
                    "numCompletedIndices": 8,
                    "numActiveStages": 0,
                    "numCompletedStages": 1,
                    "numSkippedStages": 0,
                    "numFailedStages": 0,
                    "killedTasksSummary": {}
                  },
                  {
                    "displayName": "first at ReadWrite.scala:587",
                    "dataWritten": 0,
                    "dataRead": 604,
                    "rowCount": 1,
                    "usageDescription": "",
                    "jobId": 15,
                    "name": "first at ReadWrite.scala:587",
                    "description": "Job group for statement 16:\npipeline = PretrainedPipeline('explain_document_ml')",
                    "submissionTime": "2024-11-14T17:39:50.472GMT",
                    "completionTime": "2024-11-14T17:39:50.592GMT",
                    "stageIds": [
                      15
                    ],
                    "jobGroup": "16",
                    "jobTags": [],
                    "status": "SUCCEEDED",
                    "numTasks": 1,
                    "numActiveTasks": 0,
                    "numCompletedTasks": 1,
                    "numSkippedTasks": 0,
                    "numFailedTasks": 0,
                    "numKilledTasks": 0,
                    "numCompletedIndices": 1,
                    "numActiveStages": 0,
                    "numCompletedStages": 1,
                    "numSkippedStages": 0,
                    "numFailedStages": 0,
                    "killedTasksSummary": {}
                  },
                  {
                    "displayName": "first at ReadWrite.scala:587",
                    "dataWritten": 0,
                    "dataRead": 604,
                    "rowCount": 1,
                    "usageDescription": "",
                    "jobId": 14,
                    "name": "first at ReadWrite.scala:587",
                    "description": "Job group for statement 16:\npipeline = PretrainedPipeline('explain_document_ml')",
                    "submissionTime": "2024-11-14T17:39:50.250GMT",
                    "completionTime": "2024-11-14T17:39:50.362GMT",
                    "stageIds": [
                      14
                    ],
                    "jobGroup": "16",
                    "jobTags": [],
                    "status": "SUCCEEDED",
                    "numTasks": 1,
                    "numActiveTasks": 0,
                    "numCompletedTasks": 1,
                    "numSkippedTasks": 0,
                    "numFailedTasks": 0,
                    "numKilledTasks": 0,
                    "numCompletedIndices": 1,
                    "numActiveStages": 0,
                    "numCompletedStages": 1,
                    "numSkippedStages": 0,
                    "numFailedStages": 0,
                    "killedTasksSummary": {}
                  },
                  {
                    "displayName": "first at Feature.scala:182",
                    "dataWritten": 0,
                    "dataRead": 4910,
                    "rowCount": 1,
                    "usageDescription": "",
                    "jobId": 13,
                    "name": "first at Feature.scala:182",
                    "description": "Job group for statement 16:\npipeline = PretrainedPipeline('explain_document_ml')",
                    "submissionTime": "2024-11-14T17:39:49.927GMT",
                    "completionTime": "2024-11-14T17:39:50.094GMT",
                    "stageIds": [
                      13
                    ],
                    "jobGroup": "16",
                    "jobTags": [],
                    "status": "SUCCEEDED",
                    "numTasks": 3,
                    "numActiveTasks": 0,
                    "numCompletedTasks": 3,
                    "numSkippedTasks": 0,
                    "numFailedTasks": 0,
                    "numKilledTasks": 0,
                    "numCompletedIndices": 3,
                    "numActiveStages": 0,
                    "numCompletedStages": 1,
                    "numSkippedStages": 0,
                    "numFailedStages": 0,
                    "killedTasksSummary": {}
                  },
                  {
                    "displayName": "first at Feature.scala:182",
                    "dataWritten": 0,
                    "dataRead": 380,
                    "rowCount": 0,
                    "usageDescription": "",
                    "jobId": 12,
                    "name": "first at Feature.scala:182",
                    "description": "Job group for statement 16:\npipeline = PretrainedPipeline('explain_document_ml')",
                    "submissionTime": "2024-11-14T17:39:49.604GMT",
                    "completionTime": "2024-11-14T17:39:49.888GMT",
                    "stageIds": [
                      12
                    ],
                    "jobGroup": "16",
                    "jobTags": [],
                    "status": "SUCCEEDED",
                    "numTasks": 4,
                    "numActiveTasks": 0,
                    "numCompletedTasks": 4,
                    "numSkippedTasks": 0,
                    "numFailedTasks": 0,
                    "numKilledTasks": 0,
                    "numCompletedIndices": 4,
                    "numActiveStages": 0,
                    "numCompletedStages": 1,
                    "numSkippedStages": 0,
                    "numFailedStages": 0,
                    "killedTasksSummary": {}
                  },
                  {
                    "displayName": "first at Feature.scala:182",
                    "dataWritten": 0,
                    "dataRead": 95,
                    "rowCount": 0,
                    "usageDescription": "",
                    "jobId": 11,
                    "name": "first at Feature.scala:182",
                    "description": "Job group for statement 16:\npipeline = PretrainedPipeline('explain_document_ml')",
                    "submissionTime": "2024-11-14T17:39:49.364GMT",
                    "completionTime": "2024-11-14T17:39:49.560GMT",
                    "stageIds": [
                      11
                    ],
                    "jobGroup": "16",
                    "jobTags": [],
                    "status": "SUCCEEDED",
                    "numTasks": 1,
                    "numActiveTasks": 0,
                    "numCompletedTasks": 1,
                    "numSkippedTasks": 0,
                    "numFailedTasks": 0,
                    "numKilledTasks": 0,
                    "numCompletedIndices": 1,
                    "numActiveStages": 0,
                    "numCompletedStages": 1,
                    "numSkippedStages": 0,
                    "numFailedStages": 0,
                    "killedTasksSummary": {}
                  },
                  {
                    "displayName": "first at ReadWrite.scala:587",
                    "dataWritten": 0,
                    "dataRead": 484,
                    "rowCount": 1,
                    "usageDescription": "",
                    "jobId": 10,
                    "name": "first at ReadWrite.scala:587",
                    "description": "Job group for statement 16:\npipeline = PretrainedPipeline('explain_document_ml')",
                    "submissionTime": "2024-11-14T17:39:48.962GMT",
                    "completionTime": "2024-11-14T17:39:49.098GMT",
                    "stageIds": [
                      10
                    ],
                    "jobGroup": "16",
                    "jobTags": [],
                    "status": "SUCCEEDED",
                    "numTasks": 1,
                    "numActiveTasks": 0,
                    "numCompletedTasks": 1,
                    "numSkippedTasks": 0,
                    "numFailedTasks": 0,
                    "numKilledTasks": 0,
                    "numCompletedIndices": 1,
                    "numActiveStages": 0,
                    "numCompletedStages": 1,
                    "numSkippedStages": 0,
                    "numFailedStages": 0,
                    "killedTasksSummary": {}
                  },
                  {
                    "displayName": "first at ReadWrite.scala:587",
                    "dataWritten": 0,
                    "dataRead": 484,
                    "rowCount": 1,
                    "usageDescription": "",
                    "jobId": 9,
                    "name": "first at ReadWrite.scala:587",
                    "description": "Job group for statement 16:\npipeline = PretrainedPipeline('explain_document_ml')",
                    "submissionTime": "2024-11-14T17:39:48.651GMT",
                    "completionTime": "2024-11-14T17:39:48.781GMT",
                    "stageIds": [
                      9
                    ],
                    "jobGroup": "16",
                    "jobTags": [],
                    "status": "SUCCEEDED",
                    "numTasks": 1,
                    "numActiveTasks": 0,
                    "numCompletedTasks": 1,
                    "numSkippedTasks": 0,
                    "numFailedTasks": 0,
                    "numKilledTasks": 0,
                    "numCompletedIndices": 1,
                    "numActiveStages": 0,
                    "numCompletedStages": 1,
                    "numSkippedStages": 0,
                    "numFailedStages": 0,
                    "killedTasksSummary": {}
                  },
                  {
                    "displayName": "first at ReadWrite.scala:587",
                    "dataWritten": 0,
                    "dataRead": 433,
                    "rowCount": 1,
                    "usageDescription": "",
                    "jobId": 8,
                    "name": "first at ReadWrite.scala:587",
                    "description": "Job group for statement 16:\npipeline = PretrainedPipeline('explain_document_ml')",
                    "submissionTime": "2024-11-14T17:39:48.393GMT",
                    "completionTime": "2024-11-14T17:39:48.502GMT",
                    "stageIds": [
                      8
                    ],
                    "jobGroup": "16",
                    "jobTags": [],
                    "status": "SUCCEEDED",
                    "numTasks": 1,
                    "numActiveTasks": 0,
                    "numCompletedTasks": 1,
                    "numSkippedTasks": 0,
                    "numFailedTasks": 0,
                    "numKilledTasks": 0,
                    "numCompletedIndices": 1,
                    "numActiveStages": 0,
                    "numCompletedStages": 1,
                    "numSkippedStages": 0,
                    "numFailedStages": 0,
                    "killedTasksSummary": {}
                  },
                  {
                    "displayName": "first at ReadWrite.scala:587",
                    "dataWritten": 0,
                    "dataRead": 433,
                    "rowCount": 1,
                    "usageDescription": "",
                    "jobId": 7,
                    "name": "first at ReadWrite.scala:587",
                    "description": "Job group for statement 16:\npipeline = PretrainedPipeline('explain_document_ml')",
                    "submissionTime": "2024-11-14T17:39:48.078GMT",
                    "completionTime": "2024-11-14T17:39:48.219GMT",
                    "stageIds": [
                      7
                    ],
                    "jobGroup": "16",
                    "jobTags": [],
                    "status": "SUCCEEDED",
                    "numTasks": 1,
                    "numActiveTasks": 0,
                    "numCompletedTasks": 1,
                    "numSkippedTasks": 0,
                    "numFailedTasks": 0,
                    "numKilledTasks": 0,
                    "numCompletedIndices": 1,
                    "numActiveStages": 0,
                    "numCompletedStages": 1,
                    "numSkippedStages": 0,
                    "numFailedStages": 0,
                    "killedTasksSummary": {}
                  }
                ],
                "limit": 20,
                "rule": "ALL_DESC"
              },
              "session_id": "6",
              "normalized_state": "finished",
              "queued_time": "2024-11-14T17:39:18.9204866Z",
              "session_start_time": null,
              "execution_start_time": "2024-11-14T17:39:19.0444294Z",
              "execution_finish_time": "2024-11-14T17:40:07.5936025Z",
              "parent_msg_id": "a702fc66-733e-4862-a874-339f3c75e5ce"
            },
            "text/plain": "StatementMeta(5aa47e66-3850-4695-81a4-35db9fdf0332, 6, 16, Finished, Available, Finished)"
          },
          "metadata": {}
        },
        {
          "output_type": "stream",
          "name": "stdout",
          "text": "explain_document_ml download started this may take some time.\nApprox size to download 9 MB\n[OK!]\n"
        }
      ],
      "execution_count": 11,
      "metadata": {
        "gather": {
          "logged": 1731606007826
        }
      }
    },
    {
      "cell_type": "markdown",
      "source": [],
      "metadata": {}
    },
    {
      "cell_type": "code",
      "source": [
        "result = pipeline.transform(data)"
      ],
      "outputs": [
        {
          "output_type": "display_data",
          "data": {
            "application/vnd.livy.statement-meta+json": {
              "spark_pool": "5aa47e66-3850-4695-81a4-35db9fdf0332",
              "statement_id": 17,
              "statement_ids": [
                17
              ],
              "state": "finished",
              "livy_statement_state": "available",
              "spark_jobs": {
                "numbers": {
                  "UNKNOWN": 0,
                  "RUNNING": 0,
                  "SUCCEEDED": 0,
                  "FAILED": 0
                },
                "jobs": [],
                "limit": 20,
                "rule": "ALL_DESC"
              },
              "session_id": "6",
              "normalized_state": "finished",
              "queued_time": "2024-11-14T17:40:15.5974765Z",
              "session_start_time": null,
              "execution_start_time": "2024-11-14T17:40:15.7211429Z",
              "execution_finish_time": "2024-11-14T17:40:17.264242Z",
              "parent_msg_id": "d60c48f0-19fd-4a96-b78f-f5267f723f96"
            },
            "text/plain": "StatementMeta(5aa47e66-3850-4695-81a4-35db9fdf0332, 6, 17, Finished, Available, Finished)"
          },
          "metadata": {}
        }
      ],
      "execution_count": 12,
      "metadata": {
        "gather": {
          "logged": 1731606017471
        }
      }
    },
    {
      "cell_type": "code",
      "source": [
        "result.show()"
      ],
      "outputs": [
        {
          "output_type": "display_data",
          "data": {
            "application/vnd.livy.statement-meta+json": {
              "spark_pool": "5aa47e66-3850-4695-81a4-35db9fdf0332",
              "statement_id": 18,
              "statement_ids": [
                18
              ],
              "state": "finished",
              "livy_statement_state": "available",
              "spark_jobs": {
                "numbers": {
                  "UNKNOWN": 0,
                  "RUNNING": 0,
                  "SUCCEEDED": 3,
                  "FAILED": 0
                },
                "jobs": [
                  {
                    "displayName": "showString at NativeMethodAccessorImpl.java:0",
                    "dataWritten": 0,
                    "dataRead": 0,
                    "rowCount": 0,
                    "usageDescription": "",
                    "jobId": 29,
                    "name": "showString at NativeMethodAccessorImpl.java:0",
                    "description": "Job group for statement 18:\nresult.show()",
                    "submissionTime": "2024-11-14T17:41:01.084GMT",
                    "completionTime": "2024-11-14T17:41:14.177GMT",
                    "stageIds": [
                      29
                    ],
                    "jobGroup": "18",
                    "jobTags": [],
                    "status": "SUCCEEDED",
                    "numTasks": 3,
                    "numActiveTasks": 0,
                    "numCompletedTasks": 3,
                    "numSkippedTasks": 0,
                    "numFailedTasks": 0,
                    "numKilledTasks": 0,
                    "numCompletedIndices": 3,
                    "numActiveStages": 0,
                    "numCompletedStages": 1,
                    "numSkippedStages": 0,
                    "numFailedStages": 0,
                    "killedTasksSummary": {}
                  },
                  {
                    "displayName": "showString at NativeMethodAccessorImpl.java:0",
                    "dataWritten": 0,
                    "dataRead": 0,
                    "rowCount": 0,
                    "usageDescription": "",
                    "jobId": 28,
                    "name": "showString at NativeMethodAccessorImpl.java:0",
                    "description": "Job group for statement 18:\nresult.show()",
                    "submissionTime": "2024-11-14T17:40:53.680GMT",
                    "completionTime": "2024-11-14T17:41:01.066GMT",
                    "stageIds": [
                      28
                    ],
                    "jobGroup": "18",
                    "jobTags": [],
                    "status": "SUCCEEDED",
                    "numTasks": 4,
                    "numActiveTasks": 0,
                    "numCompletedTasks": 4,
                    "numSkippedTasks": 0,
                    "numFailedTasks": 0,
                    "numKilledTasks": 0,
                    "numCompletedIndices": 4,
                    "numActiveStages": 0,
                    "numCompletedStages": 1,
                    "numSkippedStages": 0,
                    "numFailedStages": 0,
                    "killedTasksSummary": {}
                  },
                  {
                    "displayName": "showString at NativeMethodAccessorImpl.java:0",
                    "dataWritten": 0,
                    "dataRead": 0,
                    "rowCount": 0,
                    "usageDescription": "",
                    "jobId": 27,
                    "name": "showString at NativeMethodAccessorImpl.java:0",
                    "description": "Job group for statement 18:\nresult.show()",
                    "submissionTime": "2024-11-14T17:40:45.223GMT",
                    "completionTime": "2024-11-14T17:40:53.669GMT",
                    "stageIds": [
                      27
                    ],
                    "jobGroup": "18",
                    "jobTags": [],
                    "status": "SUCCEEDED",
                    "numTasks": 1,
                    "numActiveTasks": 0,
                    "numCompletedTasks": 1,
                    "numSkippedTasks": 0,
                    "numFailedTasks": 0,
                    "numKilledTasks": 0,
                    "numCompletedIndices": 1,
                    "numActiveStages": 0,
                    "numCompletedStages": 1,
                    "numSkippedStages": 0,
                    "numFailedStages": 0,
                    "killedTasksSummary": {}
                  }
                ],
                "limit": 20,
                "rule": "ALL_DESC"
              },
              "session_id": "6",
              "normalized_state": "finished",
              "queued_time": "2024-11-14T17:40:43.7916822Z",
              "session_start_time": null,
              "execution_start_time": "2024-11-14T17:40:43.9485123Z",
              "execution_finish_time": "2024-11-14T17:41:15.9893288Z",
              "parent_msg_id": "ecad30ec-9ba2-4b2a-8bcc-50cabdaef1e4"
            },
            "text/plain": "StatementMeta(5aa47e66-3850-4695-81a4-35db9fdf0332, 6, 18, Finished, Available, Finished)"
          },
          "metadata": {}
        },
        {
          "output_type": "stream",
          "name": "stdout",
          "text": "+--------------------+--------------------+--------------------+--------------------+--------------------+--------------------+--------------------+--------------------+\n|                text|            document|            sentence|               token|               spell|              lemmas|               stems|                 pos|\n+--------------------+--------------------+--------------------+--------------------+--------------------+--------------------+--------------------+--------------------+\n|Peter is a goud p...|[{document, 0, 22...|[{document, 0, 22...|[{token, 0, 4, Pe...|[{token, 0, 4, Pe...|[{token, 0, 4, Pe...|[{token, 0, 4, pe...|[{pos, 0, 4, NNP,...|\n+--------------------+--------------------+--------------------+--------------------+--------------------+--------------------+--------------------+--------------------+\n\n"
        }
      ],
      "execution_count": 13,
      "metadata": {
        "gather": {
          "logged": 1731606076147
        }
      }
    },
    {
      "cell_type": "code",
      "source": [
        "from sparknlp.functions import *"
      ],
      "outputs": [
        {
          "output_type": "display_data",
          "data": {
            "application/vnd.livy.statement-meta+json": {
              "spark_pool": "5aa47e66-3850-4695-81a4-35db9fdf0332",
              "statement_id": 19,
              "statement_ids": [
                19
              ],
              "state": "finished",
              "livy_statement_state": "available",
              "spark_jobs": {
                "numbers": {
                  "UNKNOWN": 0,
                  "RUNNING": 0,
                  "SUCCEEDED": 0,
                  "FAILED": 0
                },
                "jobs": [],
                "limit": 20,
                "rule": "ALL_DESC"
              },
              "session_id": "6",
              "normalized_state": "finished",
              "queued_time": "2024-11-14T17:41:31.6508107Z",
              "session_start_time": null,
              "execution_start_time": "2024-11-14T17:41:31.7820569Z",
              "execution_finish_time": "2024-11-14T17:41:32.0835241Z",
              "parent_msg_id": "0e302a80-10b7-47b0-bc44-3a49e929eba3"
            },
            "text/plain": "StatementMeta(5aa47e66-3850-4695-81a4-35db9fdf0332, 6, 19, Finished, Available, Finished)"
          },
          "metadata": {}
        }
      ],
      "execution_count": 14,
      "metadata": {
        "gather": {
          "logged": 1731606092243
        }
      }
    },
    {
      "cell_type": "code",
      "source": [
        "from sparknlp.annotation import Annotation\n",
        "\n",
        "def my_annoation_map_function(annotations):\n",
        "    return list(map(lambda a: Annotation(\n",
        "        'my_own_type',\n",
        "        a.begin,\n",
        "        a.end,\n",
        "        a.result,\n",
        "        {'my_key': 'custom_annotation_data'},\n",
        "        []), annotations))"
      ],
      "outputs": [
        {
          "output_type": "display_data",
          "data": {
            "application/vnd.livy.statement-meta+json": {
              "spark_pool": "5aa47e66-3850-4695-81a4-35db9fdf0332",
              "statement_id": 20,
              "statement_ids": [
                20
              ],
              "state": "finished",
              "livy_statement_state": "available",
              "spark_jobs": {
                "numbers": {
                  "UNKNOWN": 0,
                  "RUNNING": 0,
                  "SUCCEEDED": 0,
                  "FAILED": 0
                },
                "jobs": [],
                "limit": 20,
                "rule": "ALL_DESC"
              },
              "session_id": "6",
              "normalized_state": "finished",
              "queued_time": "2024-11-14T17:41:35.6004728Z",
              "session_start_time": null,
              "execution_start_time": "2024-11-14T17:41:35.7709701Z",
              "execution_finish_time": "2024-11-14T17:41:36.0954241Z",
              "parent_msg_id": "cb89d827-fe73-4de6-bc8d-6a20914cefe3"
            },
            "text/plain": "StatementMeta(5aa47e66-3850-4695-81a4-35db9fdf0332, 6, 20, Finished, Available, Finished)"
          },
          "metadata": {}
        }
      ],
      "execution_count": 15,
      "metadata": {
        "gather": {
          "logged": 1731606096237
        }
      }
    },
    {
      "cell_type": "code",
      "source": [
        "# The array type must be provided in order to tell Spark the expected output type of our column.\n",
        "# We are using an Annotation array here\n",
        "\n",
        "result.select(\n",
        "    map_annotations(my_annoation_map_function, Annotation.arrayType())('token')\n",
        ").toDF(\"my output\").show(truncate=False)"
      ],
      "outputs": [
        {
          "output_type": "display_data",
          "data": {
            "application/vnd.livy.statement-meta+json": {
              "spark_pool": "5aa47e66-3850-4695-81a4-35db9fdf0332",
              "statement_id": 21,
              "statement_ids": [
                21
              ],
              "state": "finished",
              "livy_statement_state": "available",
              "spark_jobs": {
                "numbers": {
                  "UNKNOWN": 0,
                  "RUNNING": 0,
                  "SUCCEEDED": 3,
                  "FAILED": 0
                },
                "jobs": [
                  {
                    "displayName": "showString at NativeMethodAccessorImpl.java:0",
                    "dataWritten": 0,
                    "dataRead": 0,
                    "rowCount": 0,
                    "usageDescription": "",
                    "jobId": 32,
                    "name": "showString at NativeMethodAccessorImpl.java:0",
                    "description": "Job group for statement 21:\n# The array type must be provided in order to tell Spark the expected output type of our column.\n# We are using an Annotation array here\n\nresult.select(\n    map_annotations(my_annoation_map_function, Annotation.arrayType())('token')\n).toDF(\"my output\").show(truncate=False)",
                    "submissionTime": "2024-11-14T17:41:58.191GMT",
                    "completionTime": "2024-11-14T17:41:59.629GMT",
                    "stageIds": [
                      32
                    ],
                    "jobGroup": "21",
                    "jobTags": [],
                    "status": "SUCCEEDED",
                    "numTasks": 3,
                    "numActiveTasks": 0,
                    "numCompletedTasks": 3,
                    "numSkippedTasks": 0,
                    "numFailedTasks": 0,
                    "numKilledTasks": 0,
                    "numCompletedIndices": 3,
                    "numActiveStages": 0,
                    "numCompletedStages": 1,
                    "numSkippedStages": 0,
                    "numFailedStages": 0,
                    "killedTasksSummary": {}
                  },
                  {
                    "displayName": "showString at NativeMethodAccessorImpl.java:0",
                    "dataWritten": 0,
                    "dataRead": 0,
                    "rowCount": 0,
                    "usageDescription": "",
                    "jobId": 31,
                    "name": "showString at NativeMethodAccessorImpl.java:0",
                    "description": "Job group for statement 21:\n# The array type must be provided in order to tell Spark the expected output type of our column.\n# We are using an Annotation array here\n\nresult.select(\n    map_annotations(my_annoation_map_function, Annotation.arrayType())('token')\n).toDF(\"my output\").show(truncate=False)",
                    "submissionTime": "2024-11-14T17:41:52.210GMT",
                    "completionTime": "2024-11-14T17:41:58.178GMT",
                    "stageIds": [
                      31
                    ],
                    "jobGroup": "21",
                    "jobTags": [],
                    "status": "SUCCEEDED",
                    "numTasks": 4,
                    "numActiveTasks": 0,
                    "numCompletedTasks": 4,
                    "numSkippedTasks": 0,
                    "numFailedTasks": 0,
                    "numKilledTasks": 0,
                    "numCompletedIndices": 4,
                    "numActiveStages": 0,
                    "numCompletedStages": 1,
                    "numSkippedStages": 0,
                    "numFailedStages": 0,
                    "killedTasksSummary": {}
                  },
                  {
                    "displayName": "showString at NativeMethodAccessorImpl.java:0",
                    "dataWritten": 0,
                    "dataRead": 0,
                    "rowCount": 0,
                    "usageDescription": "",
                    "jobId": 30,
                    "name": "showString at NativeMethodAccessorImpl.java:0",
                    "description": "Job group for statement 21:\n# The array type must be provided in order to tell Spark the expected output type of our column.\n# We are using an Annotation array here\n\nresult.select(\n    map_annotations(my_annoation_map_function, Annotation.arrayType())('token')\n).toDF(\"my output\").show(truncate=False)",
                    "submissionTime": "2024-11-14T17:41:45.664GMT",
                    "completionTime": "2024-11-14T17:41:52.196GMT",
                    "stageIds": [
                      30
                    ],
                    "jobGroup": "21",
                    "jobTags": [],
                    "status": "SUCCEEDED",
                    "numTasks": 1,
                    "numActiveTasks": 0,
                    "numCompletedTasks": 1,
                    "numSkippedTasks": 0,
                    "numFailedTasks": 0,
                    "numKilledTasks": 0,
                    "numCompletedIndices": 1,
                    "numActiveStages": 0,
                    "numCompletedStages": 1,
                    "numSkippedStages": 0,
                    "numFailedStages": 0,
                    "killedTasksSummary": {}
                  }
                ],
                "limit": 20,
                "rule": "ALL_DESC"
              },
              "session_id": "6",
              "normalized_state": "finished",
              "queued_time": "2024-11-14T17:41:45.2306384Z",
              "session_start_time": null,
              "execution_start_time": "2024-11-14T17:41:45.4068413Z",
              "execution_finish_time": "2024-11-14T17:41:59.9559865Z",
              "parent_msg_id": "89fca4de-6db1-43c2-b367-c2020c2b6f50"
            },
            "text/plain": "StatementMeta(5aa47e66-3850-4695-81a4-35db9fdf0332, 6, 21, Finished, Available, Finished)"
          },
          "metadata": {}
        },
        {
          "output_type": "stream",
          "name": "stdout",
          "text": "+-------------------------------------------------------------------------------------------------------------------------------------------------------------------------------------------------------------------------------------------------------------------------------------------------------------------------------------------------------------------------------------------------------------------+\n|my output                                                                                                                                                                                                                                                                                                                                                                                                          |\n+-------------------------------------------------------------------------------------------------------------------------------------------------------------------------------------------------------------------------------------------------------------------------------------------------------------------------------------------------------------------------------------------------------------------+\n|[{my_own_type, 0, 4, Peter, {my_key -> custom_annotation_data}, []}, {my_own_type, 6, 7, is, {my_key -> custom_annotation_data}, []}, {my_own_type, 9, 9, a, {my_key -> custom_annotation_data}, []}, {my_own_type, 11, 14, goud, {my_key -> custom_annotation_data}, []}, {my_own_type, 16, 21, person, {my_key -> custom_annotation_data}, []}, {my_own_type, 22, 22, ., {my_key -> custom_annotation_data}, []}]|\n+-------------------------------------------------------------------------------------------------------------------------------------------------------------------------------------------------------------------------------------------------------------------------------------------------------------------------------------------------------------------------------------------------------------------+\n\n"
        }
      ],
      "execution_count": 16,
      "metadata": {
        "gather": {
          "logged": 1731606120223
        }
      }
    },
    {
      "cell_type": "code",
      "source": [
        "# we can also explode annotations like this\n",
        "\n",
        "explode_annotations_col(result, 'lemmas.result', 'exploded').select('exploded').show()"
      ],
      "outputs": [
        {
          "output_type": "display_data",
          "data": {
            "application/vnd.livy.statement-meta+json": {
              "spark_pool": "5aa47e66-3850-4695-81a4-35db9fdf0332",
              "statement_id": 22,
              "statement_ids": [
                22
              ],
              "state": "finished",
              "livy_statement_state": "available",
              "spark_jobs": {
                "numbers": {
                  "UNKNOWN": 0,
                  "RUNNING": 0,
                  "SUCCEEDED": 3,
                  "FAILED": 0
                },
                "jobs": [
                  {
                    "displayName": "showString at NativeMethodAccessorImpl.java:0",
                    "dataWritten": 0,
                    "dataRead": 0,
                    "rowCount": 0,
                    "usageDescription": "",
                    "jobId": 35,
                    "name": "showString at NativeMethodAccessorImpl.java:0",
                    "description": "Job group for statement 22:\n# we can also explode annotations like this\n\nexplode_annotations_col(result, 'lemmas.result', 'exploded').select('exploded').show()",
                    "submissionTime": "2024-11-14T17:42:13.111GMT",
                    "completionTime": "2024-11-14T17:42:20.356GMT",
                    "stageIds": [
                      35
                    ],
                    "jobGroup": "22",
                    "jobTags": [],
                    "status": "SUCCEEDED",
                    "numTasks": 3,
                    "numActiveTasks": 0,
                    "numCompletedTasks": 3,
                    "numSkippedTasks": 0,
                    "numFailedTasks": 0,
                    "numKilledTasks": 0,
                    "numCompletedIndices": 3,
                    "numActiveStages": 0,
                    "numCompletedStages": 1,
                    "numSkippedStages": 0,
                    "numFailedStages": 0,
                    "killedTasksSummary": {}
                  },
                  {
                    "displayName": "showString at NativeMethodAccessorImpl.java:0",
                    "dataWritten": 0,
                    "dataRead": 0,
                    "rowCount": 0,
                    "usageDescription": "",
                    "jobId": 34,
                    "name": "showString at NativeMethodAccessorImpl.java:0",
                    "description": "Job group for statement 22:\n# we can also explode annotations like this\n\nexplode_annotations_col(result, 'lemmas.result', 'exploded').select('exploded').show()",
                    "submissionTime": "2024-11-14T17:42:12.243GMT",
                    "completionTime": "2024-11-14T17:42:13.099GMT",
                    "stageIds": [
                      34
                    ],
                    "jobGroup": "22",
                    "jobTags": [],
                    "status": "SUCCEEDED",
                    "numTasks": 4,
                    "numActiveTasks": 0,
                    "numCompletedTasks": 4,
                    "numSkippedTasks": 0,
                    "numFailedTasks": 0,
                    "numKilledTasks": 0,
                    "numCompletedIndices": 4,
                    "numActiveStages": 0,
                    "numCompletedStages": 1,
                    "numSkippedStages": 0,
                    "numFailedStages": 0,
                    "killedTasksSummary": {}
                  },
                  {
                    "displayName": "showString at NativeMethodAccessorImpl.java:0",
                    "dataWritten": 0,
                    "dataRead": 0,
                    "rowCount": 0,
                    "usageDescription": "",
                    "jobId": 33,
                    "name": "showString at NativeMethodAccessorImpl.java:0",
                    "description": "Job group for statement 22:\n# we can also explode annotations like this\n\nexplode_annotations_col(result, 'lemmas.result', 'exploded').select('exploded').show()",
                    "submissionTime": "2024-11-14T17:42:11.576GMT",
                    "completionTime": "2024-11-14T17:42:12.233GMT",
                    "stageIds": [
                      33
                    ],
                    "jobGroup": "22",
                    "jobTags": [],
                    "status": "SUCCEEDED",
                    "numTasks": 1,
                    "numActiveTasks": 0,
                    "numCompletedTasks": 1,
                    "numSkippedTasks": 0,
                    "numFailedTasks": 0,
                    "numKilledTasks": 0,
                    "numCompletedIndices": 1,
                    "numActiveStages": 0,
                    "numCompletedStages": 1,
                    "numSkippedStages": 0,
                    "numFailedStages": 0,
                    "killedTasksSummary": {}
                  }
                ],
                "limit": 20,
                "rule": "ALL_DESC"
              },
              "session_id": "6",
              "normalized_state": "finished",
              "queued_time": "2024-11-14T17:42:11.0513987Z",
              "session_start_time": null,
              "execution_start_time": "2024-11-14T17:42:11.1933217Z",
              "execution_finish_time": "2024-11-14T17:42:21.3607675Z",
              "parent_msg_id": "3b8c5dc2-82c7-4569-84ba-eb222d6db88d"
            },
            "text/plain": "StatementMeta(5aa47e66-3850-4695-81a4-35db9fdf0332, 6, 22, Finished, Available, Finished)"
          },
          "metadata": {}
        },
        {
          "output_type": "stream",
          "name": "stdout",
          "text": "+--------+\n|exploded|\n+--------+\n|   Peter|\n|      be|\n|       a|\n|   gourd|\n|  person|\n|       .|\n+--------+\n\n"
        }
      ],
      "execution_count": 17,
      "metadata": {
        "gather": {
          "logged": 1731606141567
        }
      }
    }
  ],
  "metadata": {
    "colab": {
      "name": "spark-nlp-basics-functions.ipynb",
      "provenance": []
    },
    "kernel_info": {
      "name": "synapse_pyspark"
    },
    "kernelspec": {
      "name": "synapse_pyspark",
      "language": "Python",
      "display_name": "Synapse PySpark"
    },
    "language_info": {
      "name": "python",
      "version": "3.8.0",
      "mimetype": "text/x-python",
      "file_extension": ".py",
      "pygments_lexer": "ipython",
      "codemirror_mode": "ipython",
      "nbconvert_exporter": "python"
    },
    "microsoft": {
      "ms_spell_check": {
        "ms_spell_check_language": "en"
      },
      "host": {
        "AzureML": {
          "notebookHasBeenCompleted": true
        }
      }
    },
    "nteract": {
      "version": "nteract-front-end@1.0.0"
    }
  },
  "nbformat": 4,
  "nbformat_minor": 0
}