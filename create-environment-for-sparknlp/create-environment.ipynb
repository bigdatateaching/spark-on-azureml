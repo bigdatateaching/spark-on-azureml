{
 "cells": [
  {
   "cell_type": "markdown",
   "metadata": {},
   "source": [
    "This notebook provides an example of how to define and run a job on AzureML using Spark and external Spark libraries such as `spark-nlp`. This notebook is the _control plane_, meaning it creates a connection to the AzureML workspace, defines the job, and submits the job.\n",
    "\n",
    "**This Jupyter notebook should be run from within a compute instance on AzureML, in a Python kernel, specifically `Python 3.10 - SDK v2 (Python 3.10.11)`**. "
   ]
  },
  {
   "cell_type": "markdown",
   "metadata": {},
   "source": [
    "## Create a client connection to the AzureML workspace\n",
    "\n",
    "The following cell creates a connection object called `azureml_client` which has a connection to the AzureML workspace."
   ]
  },
  {
   "cell_type": "code",
   "execution_count": 1,
   "metadata": {},
   "outputs": [],
   "source": [
    "from azure.ai.ml import MLClient, spark, Input, Output\n",
    "from azure.identity import DefaultAzureCredential\n",
    "from azure.ai.ml.entities import UserIdentityConfiguration"
   ]
  },
  {
   "cell_type": "markdown",
   "metadata": {},
   "source": [
    "Use this authentication mechanism if you are running this notebook from your compute instance within Azure Machine Learning:"
   ]
  },
  {
   "cell_type": "code",
   "execution_count": null,
   "metadata": {},
   "outputs": [],
   "source": [
    "## Use this authentication when running the control plane from the AzureML Compute Instance\n",
    "\n",
    "azureml_client = MLClient.from_config(\n",
    "    DefaultAzureCredential(),\n",
    ")"
   ]
  },
  {
   "cell_type": "markdown",
   "metadata": {},
   "source": [
    "However, you can also run this control plane notebook from your Laptop. You need to install the python libraries in the `requirements.txt` file."
   ]
  },
  {
   "cell_type": "code",
   "execution_count": 2,
   "metadata": {
    "gather": {
     "logged": 1731375810369
    }
   },
   "outputs": [],
   "source": [
    "## Use this when running the control plane from your laptop\n",
    "ml_client = MLClient(\n",
    "    credential=DefaultAzureCredential(),\n",
    "    workspace_name=\"prof-azureml\",\n",
    "    subscription_id=\"21ff0fc0-dd2c-450d-93b7-96eeb3699b22\",\n",
    "    resource_group_name=\"prof-azureml\"\n",
    ")"
   ]
  },
  {
   "cell_type": "markdown",
   "metadata": {},
   "source": [
    "## Create a custom container environment with python spark-nlp to use in both interactive and jobs"
   ]
  },
  {
   "cell_type": "code",
   "execution_count": 4,
   "metadata": {},
   "outputs": [
    {
     "data": {
      "text/plain": [
       "Environment({'arm_type': 'environment_version', 'latest_version': None, 'image': 'mcr.microsoft.com/azureml/openmpi4.1.0-ubuntu22.04', 'intellectual_property': None, 'is_anonymous': False, 'auto_increment_version': False, 'auto_delete_setting': None, 'name': 'sparknlp-python-env', 'description': None, 'tags': {}, 'properties': {'azureml.labels': 'latest'}, 'print_as_yaml': False, 'id': '/subscriptions/21ff0fc0-dd2c-450d-93b7-96eeb3699b22/resourceGroups/prof-azureml/providers/Microsoft.MachineLearningServices/workspaces/prof-azureml/environments/sparknlp-python-env/versions/1', 'Resource__source_path': '', 'base_path': '/Users/marck/class/dsan6000/working-repos/spark-on-azureml/create-environment-for-sparknlp', 'creation_context': <azure.ai.ml.entities._system_data.SystemData object at 0x11aafe9f0>, 'serialize': <msrest.serialization.Serializer object at 0x11ab44350>, 'version': '1', 'conda_file': {'dependencies': ['python=3.10.3', {'pip': ['spark-nlp']}]}, 'build': None, 'inference_config': None, 'os_type': 'Linux', 'conda_file_path': None, 'path': None, 'datastore': None, 'upload_hash': None, 'translated_conda_file': '{\\n  \"dependencies\": [\\n    \"python=3.10.3\",\\n    {\\n      \"pip\": [\\n        \"spark-nlp\"\\n      ]\\n    }\\n  ]\\n}'})"
      ]
     },
     "execution_count": 4,
     "metadata": {},
     "output_type": "execute_result"
    }
   ],
   "source": [
    "from azure.ai.ml.entities import Environment\n",
    "environment_object = Environment(\n",
    "    image=\"mcr.microsoft.com/azureml/openmpi4.1.0-ubuntu22.04\",\n",
    "    conda_file=\"sparknlp-environment.yml\",\n",
    "    name=\"sparknlp-python-env\"\n",
    ")\n",
    "ml_client.environments.create_or_update(environment_object)"
   ]
  }
 ],
 "metadata": {
  "kernel_info": {
   "name": "python310-sdkv2"
  },
  "kernelspec": {
   "display_name": ".venv",
   "language": "python",
   "name": "python3"
  },
  "language_info": {
   "codemirror_mode": {
    "name": "ipython",
    "version": 3
   },
   "file_extension": ".py",
   "mimetype": "text/x-python",
   "name": "python",
   "nbconvert_exporter": "python",
   "pygments_lexer": "ipython3",
   "version": "3.12.4"
  },
  "microsoft": {
   "host": {
    "AzureML": {
     "notebookHasBeenCompleted": true
    }
   },
   "ms_spell_check": {
    "ms_spell_check_language": "en"
   }
  },
  "nteract": {
   "version": "nteract-front-end@1.0.0"
  },
  "orig_nbformat": 4
 },
 "nbformat": 4,
 "nbformat_minor": 2
}
